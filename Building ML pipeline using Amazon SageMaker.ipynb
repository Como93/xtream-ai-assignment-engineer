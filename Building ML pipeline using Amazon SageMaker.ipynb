{
 "cells": [
  {
   "cell_type": "markdown",
   "id": "33843482",
   "metadata": {},
   "source": [
    "# Building ML pipeline using Amazon SageMaker"
   ]
  },
  {
   "cell_type": "markdown",
   "id": "6e4e4f0b",
   "metadata": {},
   "source": [
    "#### What is AWS SageMaker?"
   ]
  },
  {
   "attachments": {},
   "cell_type": "markdown",
   "id": "d1c51820",
   "metadata": {},
   "source": [
    "AWS SageMaker is a managed machine learning service. With SageMaker, machine learning models can be built, trained and deployed into a production-ready environment. It provides a UI experience for running machine learning workflows that makes this tool available across multiple integrated development environments.\n",
    "With SageMaker, you can store and share your data without having build and manage your own servers. It provides managed machine learning algorithms to run efficiently against extremely large data in a distributed environment. It offers flexible distributed training options that adjust to your specific workflows. Within a few steps, you can deploy a model into a secure and scalable environment. "
   ]
  },
  {
   "cell_type": "markdown",
   "id": "2357409c",
   "metadata": {},
   "source": [
    "#### How does AWS SageMaker work? "
   ]
  },
  {
   "cell_type": "markdown",
   "id": "a8b88d3d",
   "metadata": {},
   "source": [
    "![title](sagemaker_architecture.png)"
   ]
  },
  {
   "cell_type": "markdown",
   "id": "b054fecd",
   "metadata": {},
   "source": [
    "As said before, AWS SageMaker takes care of all the steps to handle a machine learning problem. In particular:\n",
    "\n",
    "- <b> Data Preparation : </b> SageMaker allows you to ingest and preprocess your data using various AWS services such as S3 for storing data and AWS Glue for preparing and transforming the data\n",
    "- <b> Model Training : </b> SageMaker provides built-in algorithms or the ability to add your own for common tasks like regression, classification or clustering. \n",
    "- <b> Model Deployment : </b> Once model is trained, SageMaker provides the functionality to deploy a model in production. The model can be deployed as real-time endpoints, i.e. the predictions can be served in real-time via http endpoint alternatively the model can be deployed as batch trasformations, i.e. process large batches of data offline and produce predictions asynchronously."
   ]
  },
  {
   "cell_type": "markdown",
   "id": "508d8494",
   "metadata": {},
   "source": [
    "#### What are the advantages of using AWS SageMaker?"
   ]
  },
  {
   "cell_type": "markdown",
   "id": "0a0e4fe2",
   "metadata": {},
   "source": [
    "AWS SageMaker is a powerful service to solve machine learning problem, because it can handle a large amount of data and uses calculation instances to train the model. In particular, the advantages of using AWS SageMaker are:\n",
    "- <b> Fully Managed Service : </b> SageMaker is a fully managed service, which means AWS handles infrastructure provisioning, scaling, and maintenance, allowing developers to focus on building and deploying machine learning models without worrying about underlying infrastructure.\n",
    "- <b> End-to-End Machine Learning Workflow: </b> It manages the entire machine learning lifecycle, from experimentation to production deployment.\n",
    "- <b> Scalability and Perfomance : </b> SageMaker uses the AWS infrastructures to handle large datasets and high computational demands. It automatically manages the necessary resources for training and inference.\n",
    "- <b> Monitoring and Management : </b> SageMaker provides built-in monitoring and logging capabilities for monitoring model performance, detecting drift, and ensuring model quality over time. \n",
    "- <b> Integration AWS Service : </b> SageMaker communicates with other AWS services to manage the entire data flow"
   ]
  },
  {
   "cell_type": "markdown",
   "id": "50537a2b",
   "metadata": {},
   "source": [
    "\n",
    "\n"
   ]
  }
 ],
 "metadata": {
  "kernelspec": {
   "display_name": "Python 3 (ipykernel)",
   "language": "python",
   "name": "python3"
  },
  "language_info": {
   "codemirror_mode": {
    "name": "ipython",
    "version": 3
   },
   "file_extension": ".py",
   "mimetype": "text/x-python",
   "name": "python",
   "nbconvert_exporter": "python",
   "pygments_lexer": "ipython3",
   "version": "3.11.5"
  }
 },
 "nbformat": 4,
 "nbformat_minor": 5
}
